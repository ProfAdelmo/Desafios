{
 "cells": [
  {
   "cell_type": "code",
   "execution_count": 1,
   "id": "be601a28",
   "metadata": {},
   "outputs": [],
   "source": [
    "# Importando as Bibliotecas necessárias\n",
    "# Pandas pelo dataframe\n",
    "# Numpy pelas operações matemáticas (array por ex.)\n",
    "# Matplotlib pelos gráficos\n",
    "# Sklearn.model_selection pela regressão linear, split de treino e teste e Validação Cruzada\n",
    "# Sklearn.metrics para medir os erros\n",
    "# Sklearn.preprocessing para usar método RobustScaler para achar os outlier\n",
    "# Usaremos o método de Tukey também para achar os outlier"
   ]
  },
  {
   "cell_type": "code",
   "execution_count": 2,
   "id": "24b8abb3",
   "metadata": {},
   "outputs": [],
   "source": [
    "import pandas as pd\n",
    "import numpy as np\n",
    "import matplotlib.pyplot as plt\n",
    "from sklearn.linear_model import LinearRegression\n",
    "from yellowbrick.regressor import ResidualsPlot\n",
    "from sklearn.model_selection import train_test_split\n",
    "from sklearn.model_selection import cross_val_score\n",
    "from sklearn.metrics import mean_absolute_error\n",
    "from sklearn.metrics import mean_squared_error\n",
    "from sklearn.metrics import mean_absolute_percentage_error\n",
    "from sklearn.preprocessing import RobustScaler"
   ]
  },
  {
   "cell_type": "code",
   "execution_count": 3,
   "id": "5699d1ce",
   "metadata": {},
   "outputs": [],
   "source": [
    "# vamos ler a tabela CSV \n",
    "df = pd.read_csv(\"https://raw.githubusercontent.com/manipulaeHealth/desafio-machine-learning/main/dados_preco.csv\")"
   ]
  },
  {
   "cell_type": "code",
   "execution_count": 4,
   "id": "f19ef1d8",
   "metadata": {},
   "outputs": [],
   "source": [
    "# vamos fazer uma cópia para não alterarmos o original\n",
    "df_teste = df.copy()"
   ]
  },
  {
   "cell_type": "code",
   "execution_count": 5,
   "id": "ed69844e",
   "metadata": {},
   "outputs": [
    {
     "data": {
      "text/plain": [
       "descricao     0\n",
       "criado        0\n",
       "qtdInsumos    0\n",
       "calculado     0\n",
       "correto       0\n",
       "dtype: int64"
      ]
     },
     "execution_count": 5,
     "metadata": {},
     "output_type": "execute_result"
    }
   ],
   "source": [
    "# vamos ver quantos valores nulos tem\n",
    "df_teste.isnull().sum()"
   ]
  },
  {
   "cell_type": "code",
   "execution_count": 6,
   "id": "f44e46f3",
   "metadata": {},
   "outputs": [
    {
     "data": {
      "text/html": [
       "<div>\n",
       "<style scoped>\n",
       "    .dataframe tbody tr th:only-of-type {\n",
       "        vertical-align: middle;\n",
       "    }\n",
       "\n",
       "    .dataframe tbody tr th {\n",
       "        vertical-align: top;\n",
       "    }\n",
       "\n",
       "    .dataframe thead th {\n",
       "        text-align: right;\n",
       "    }\n",
       "</style>\n",
       "<table border=\"1\" class=\"dataframe\">\n",
       "  <thead>\n",
       "    <tr style=\"text-align: right;\">\n",
       "      <th></th>\n",
       "      <th>qtdInsumos</th>\n",
       "      <th>calculado</th>\n",
       "      <th>correto</th>\n",
       "    </tr>\n",
       "  </thead>\n",
       "  <tbody>\n",
       "    <tr>\n",
       "      <th>count</th>\n",
       "      <td>7121.000000</td>\n",
       "      <td>7121.000000</td>\n",
       "      <td>7121.000000</td>\n",
       "    </tr>\n",
       "    <tr>\n",
       "      <th>mean</th>\n",
       "      <td>3.281842</td>\n",
       "      <td>137.089552</td>\n",
       "      <td>135.891798</td>\n",
       "    </tr>\n",
       "    <tr>\n",
       "      <th>std</th>\n",
       "      <td>3.194301</td>\n",
       "      <td>191.266516</td>\n",
       "      <td>189.806974</td>\n",
       "    </tr>\n",
       "    <tr>\n",
       "      <th>min</th>\n",
       "      <td>1.000000</td>\n",
       "      <td>30.000100</td>\n",
       "      <td>33.000000</td>\n",
       "    </tr>\n",
       "    <tr>\n",
       "      <th>25%</th>\n",
       "      <td>1.000000</td>\n",
       "      <td>49.786100</td>\n",
       "      <td>49.500000</td>\n",
       "    </tr>\n",
       "    <tr>\n",
       "      <th>50%</th>\n",
       "      <td>2.000000</td>\n",
       "      <td>87.350300</td>\n",
       "      <td>83.100000</td>\n",
       "    </tr>\n",
       "    <tr>\n",
       "      <th>75%</th>\n",
       "      <td>4.000000</td>\n",
       "      <td>165.167000</td>\n",
       "      <td>161.200000</td>\n",
       "    </tr>\n",
       "    <tr>\n",
       "      <th>max</th>\n",
       "      <td>26.000000</td>\n",
       "      <td>10364.992500</td>\n",
       "      <td>10356.000000</td>\n",
       "    </tr>\n",
       "  </tbody>\n",
       "</table>\n",
       "</div>"
      ],
      "text/plain": [
       "        qtdInsumos     calculado       correto\n",
       "count  7121.000000   7121.000000   7121.000000\n",
       "mean      3.281842    137.089552    135.891798\n",
       "std       3.194301    191.266516    189.806974\n",
       "min       1.000000     30.000100     33.000000\n",
       "25%       1.000000     49.786100     49.500000\n",
       "50%       2.000000     87.350300     83.100000\n",
       "75%       4.000000    165.167000    161.200000\n",
       "max      26.000000  10364.992500  10356.000000"
      ]
     },
     "execution_count": 6,
     "metadata": {},
     "output_type": "execute_result"
    }
   ],
   "source": [
    "# describe dá um resumo estatístico\n",
    "df_teste.describe()"
   ]
  },
  {
   "cell_type": "code",
   "execution_count": 7,
   "id": "18215102",
   "metadata": {},
   "outputs": [
    {
     "data": {
      "text/html": [
       "<div>\n",
       "<style scoped>\n",
       "    .dataframe tbody tr th:only-of-type {\n",
       "        vertical-align: middle;\n",
       "    }\n",
       "\n",
       "    .dataframe tbody tr th {\n",
       "        vertical-align: top;\n",
       "    }\n",
       "\n",
       "    .dataframe thead th {\n",
       "        text-align: right;\n",
       "    }\n",
       "</style>\n",
       "<table border=\"1\" class=\"dataframe\">\n",
       "  <thead>\n",
       "    <tr style=\"text-align: right;\">\n",
       "      <th></th>\n",
       "      <th>descricao</th>\n",
       "      <th>criado</th>\n",
       "      <th>qtdInsumos</th>\n",
       "      <th>calculado</th>\n",
       "      <th>correto</th>\n",
       "    </tr>\n",
       "  </thead>\n",
       "  <tbody>\n",
       "    <tr>\n",
       "      <th>0</th>\n",
       "      <td>30 CAP | BUPROPIONA CLORIDRATO  150MG</td>\n",
       "      <td>2020-08-05 23:19:09</td>\n",
       "      <td>1</td>\n",
       "      <td>47.5297</td>\n",
       "      <td>39.9</td>\n",
       "    </tr>\n",
       "    <tr>\n",
       "      <th>1</th>\n",
       "      <td>60 CAP | FINASTERIDA 1:10  1MG</td>\n",
       "      <td>2020-08-05 22:51:09</td>\n",
       "      <td>1</td>\n",
       "      <td>46.9620</td>\n",
       "      <td>43.6</td>\n",
       "    </tr>\n",
       "    <tr>\n",
       "      <th>2</th>\n",
       "      <td>60 CAP | NAC  250MG; SILIMARINA  150MG; SAME  ...</td>\n",
       "      <td>2020-08-05 22:51:09</td>\n",
       "      <td>3</td>\n",
       "      <td>105.1390</td>\n",
       "      <td>111.4</td>\n",
       "    </tr>\n",
       "    <tr>\n",
       "      <th>3</th>\n",
       "      <td>60 CAP | ANASTROZOL 1:10 0.300MG</td>\n",
       "      <td>2020-08-05 22:51:09</td>\n",
       "      <td>1</td>\n",
       "      <td>49.0314</td>\n",
       "      <td>43.6</td>\n",
       "    </tr>\n",
       "    <tr>\n",
       "      <th>4</th>\n",
       "      <td>120 CAP | DUTASTERIDA 0.250MG; TADALAFIL  10MG</td>\n",
       "      <td>2020-08-05 22:49:09</td>\n",
       "      <td>2</td>\n",
       "      <td>161.8272</td>\n",
       "      <td>146.0</td>\n",
       "    </tr>\n",
       "  </tbody>\n",
       "</table>\n",
       "</div>"
      ],
      "text/plain": [
       "                                           descricao               criado  \\\n",
       "0              30 CAP | BUPROPIONA CLORIDRATO  150MG  2020-08-05 23:19:09   \n",
       "1                     60 CAP | FINASTERIDA 1:10  1MG  2020-08-05 22:51:09   \n",
       "2  60 CAP | NAC  250MG; SILIMARINA  150MG; SAME  ...  2020-08-05 22:51:09   \n",
       "3                   60 CAP | ANASTROZOL 1:10 0.300MG  2020-08-05 22:51:09   \n",
       "4     120 CAP | DUTASTERIDA 0.250MG; TADALAFIL  10MG  2020-08-05 22:49:09   \n",
       "\n",
       "   qtdInsumos  calculado  correto  \n",
       "0           1    47.5297     39.9  \n",
       "1           1    46.9620     43.6  \n",
       "2           3   105.1390    111.4  \n",
       "3           1    49.0314     43.6  \n",
       "4           2   161.8272    146.0  "
      ]
     },
     "execution_count": 7,
     "metadata": {},
     "output_type": "execute_result"
    }
   ],
   "source": [
    "# olhamos as primeiras linhas de todas as colunas do nosso dataframe\n",
    "df_teste.head()"
   ]
  },
  {
   "cell_type": "code",
   "execution_count": 8,
   "id": "5e8b4a0e",
   "metadata": {},
   "outputs": [],
   "source": [
    "# deixamos o preço \"calculado\" com o valor unitário de insumo\n",
    "df_teste[\"calculado\"] = [calc/qtde for calc, qtde in df_teste[[\"calculado\",\"qtdInsumos\"]].values]"
   ]
  },
  {
   "cell_type": "code",
   "execution_count": 10,
   "id": "38d9c383",
   "metadata": {},
   "outputs": [],
   "source": [
    "# deixamos o preço \"correto\" com o valor unitário\n",
    "df_teste[\"correto\"] = [corr/qtde for corr, qtde in df_teste[[\"correto\",\"qtdInsumos\"]].values]"
   ]
  },
  {
   "cell_type": "code",
   "execution_count": 11,
   "id": "156bde77",
   "metadata": {},
   "outputs": [
    {
     "data": {
      "text/plain": [
       "<matplotlib.collections.PathCollection at 0x16b45639130>"
      ]
     },
     "execution_count": 11,
     "metadata": {},
     "output_type": "execute_result"
    },
    {
     "data": {
      "image/png": "[encoded data removed]",
      "text/plain": [
       "<Figure size 576x396 with 1 Axes>"
      ]
     },
     "metadata": {},
     "output_type": "display_data"
    }
   ],
   "source": [
    "# gráfico de dispersão para tentarmos visualizar outliers\n",
    "plt.scatter(df_teste[\"calculado\"],df_teste[\"correto\"])"
   ]
  },
  {
   "cell_type": "code",
   "execution_count": 12,
   "id": "4995a9b6",
   "metadata": {},
   "outputs": [],
   "source": [
    "# fatiando as linhas da 1 até a 5121\n",
    "x = df_teste.iloc[0:5121,3].values\n",
    "y = df_teste.iloc[0:5121,4].values"
   ]
  },
  {
   "cell_type": "code",
   "execution_count": 13,
   "id": "66d2d129",
   "metadata": {},
   "outputs": [
    {
     "data": {
      "text/plain": [
       "<matplotlib.collections.PathCollection at 0x16b45882160>"
      ]
     },
     "execution_count": 13,
     "metadata": {},
     "output_type": "execute_result"
    },
    {
     "data": {
      "image/png": "[encoded data removed]",
      "text/plain": [
       "<Figure size 576x396 with 1 Axes>"
      ]
     },
     "metadata": {},
     "output_type": "display_data"
    }
   ],
   "source": [
    "# gráfico de dispersão do novo x e novo y (com o corte de linhas)\n",
    "plt.scatter(x,y)"
   ]
  },
  {
   "cell_type": "code",
   "execution_count": 22,
   "id": "db47144c",
   "metadata": {},
   "outputs": [
    {
     "data": {
      "text/plain": [
       "Text(0.5, 0, 'calculado')"
      ]
     },
     "execution_count": 22,
     "metadata": {},
     "output_type": "execute_result"
    },
    {
     "data": {
      "image/png": "[encoded data removed]",
      "text/plain": [
       "<Figure size 576x396 with 1 Axes>"
      ]
     },
     "metadata": {},
     "output_type": "display_data"
    }
   ],
   "source": [
    "# gráfico Boxplot do \"calculado\" mostrando os outliers\n",
    "plt.boxplot(x, vert = False, showfliers = True, notch = False, patch_artist = True)\n",
    "plt.title(\"Gráfico de Boxplot\")\n",
    "plt.xlabel(\"calculado\")"
   ]
  },
  {
   "cell_type": "code",
   "execution_count": 27,
   "id": "2f5d7044",
   "metadata": {},
   "outputs": [
    {
     "data": {
      "text/plain": [
       "Text(0.5, 0, 'correto')"
      ]
     },
     "execution_count": 27,
     "metadata": {},
     "output_type": "execute_result"
    },
    {
     "data": {
      "image/png": "[encoded data removed]",
      "text/plain": [
       "<Figure size 576x396 with 1 Axes>"
      ]
     },
     "metadata": {},
     "output_type": "display_data"
    }
   ],
   "source": [
    "# gráfico Boxplot do \"correto\" mostrando os outliers\n",
    "plt.boxplot(y, vert = False, showfliers = True, notch = False, patch_artist = True)\n",
    "plt.title(\"Gráfico de Boxplot\")\n",
    "plt.xlabel(\"correto\")"
   ]
  },
  {
   "cell_type": "code",
   "execution_count": 28,
   "id": "a67796cc",
   "metadata": {},
   "outputs": [
    {
     "data": {
      "text/plain": [
       "Text(0.5, 0, 'calculado')"
      ]
     },
     "execution_count": 28,
     "metadata": {},
     "output_type": "execute_result"
    },
    {
     "data": {
      "image/png": "[encoded data removed]",
      "text/plain": [
       "<Figure size 576x396 with 1 Axes>"
      ]
     },
     "metadata": {},
     "output_type": "display_data"
    }
   ],
   "source": [
    "# gráfico Boxplot do \"calculado\" sem mostrar os outliers\n",
    "plt.boxplot(x, vert = False, showfliers = False, notch = False, patch_artist = True)\n",
    "plt.title(\"Gráfico de Boxplot\")\n",
    "plt.xlabel(\"calculado\")"
   ]
  },
  {
   "cell_type": "code",
   "execution_count": 32,
   "id": "93bd7d1a",
   "metadata": {},
   "outputs": [
    {
     "data": {
      "text/plain": [
       "Text(0.5, 0, 'correto')"
      ]
     },
     "execution_count": 32,
     "metadata": {},
     "output_type": "execute_result"
    },
    {
     "data": {
      "image/png": "[encoded data removed]",
      "text/plain": [
       "<Figure size 576x396 with 1 Axes>"
      ]
     },
     "metadata": {},
     "output_type": "display_data"
    }
   ],
   "source": [
    "# gráfico Boxplot do \"correto\" mostrando os outliers\n",
    "plt.boxplot(y, vert = False, showfliers = False, notch = False, patch_artist = True)\n",
    "plt.title(\"Gráfico de Boxplot\")\n",
    "plt.xlabel(\"correto\")"
   ]
  },
  {
   "cell_type": "code",
   "execution_count": 31,
   "id": "f45f3ac7",
   "metadata": {},
   "outputs": [
    {
     "data": {
      "text/plain": [
       "{'whiskers': [<matplotlib.lines.Line2D at 0x16b470f1df0>,\n",
       "  <matplotlib.lines.Line2D at 0x16b47100190>],\n",
       " 'caps': [<matplotlib.lines.Line2D at 0x16b471004f0>,\n",
       "  <matplotlib.lines.Line2D at 0x16b47100850>],\n",
       " 'boxes': [<matplotlib.patches.PathPatch at 0x16b470f1a60>],\n",
       " 'medians': [<matplotlib.lines.Line2D at 0x16b47100bb0>],\n",
       " 'fliers': [],\n",
       " 'means': []}"
      ]
     },
     "execution_count": 31,
     "metadata": {},
     "output_type": "execute_result"
    },
    {
     "data": {
      "image/png": "[encoded data removed]",
      "text/plain": [
       "<Figure size 576x396 with 4 Axes>"
      ]
     },
     "metadata": {},
     "output_type": "display_data"
    }
   ],
   "source": [
    "# plotar os 4 gráficos numa mesma região para uma comparação visual\n",
    "plt.figure(1)\n",
    "plt.subplot(2,2,1)\n",
    "plt.boxplot(x, vert = False, showfliers = True, notch = False, patch_artist = True)\n",
    "plt.subplot(2,2,2)\n",
    "plt.boxplot(y, vert = False, showfliers = True, notch = False, patch_artist = True)\n",
    "plt.subplot(2,2,3)\n",
    "plt.boxplot(x, vert = False, showfliers = False, notch = False, patch_artist = True)\n",
    "plt.subplot(2,2,4)\n",
    "plt.boxplot(y, vert = False, showfliers = False, notch = False, patch_artist = True)"
   ]
  },
  {
   "cell_type": "code",
   "execution_count": 44,
   "id": "0b7b4e3c",
   "metadata": {},
   "outputs": [],
   "source": [
    "# redimensionar \n",
    "x = x.reshape(-1,1)"
   ]
  },
  {
   "cell_type": "code",
   "execution_count": 35,
   "id": "57fa2a4e",
   "metadata": {},
   "outputs": [
    {
     "data": {
      "text/plain": [
       "LinearRegression()"
      ]
     },
     "execution_count": 35,
     "metadata": {},
     "output_type": "execute_result"
    }
   ],
   "source": [
    "# atribui uma regressão linear e treinar esse modelo\n",
    "modelo = LinearRegression()\n",
    "modelo.fit(x,y)"
   ]
  },
  {
   "cell_type": "code",
   "execution_count": 36,
   "id": "7de48f41",
   "metadata": {},
   "outputs": [
    {
     "data": {
      "text/plain": [
       "0.34552999629825365"
      ]
     },
     "execution_count": 36,
     "metadata": {},
     "output_type": "execute_result"
    }
   ],
   "source": [
    "# valor do intercepto\n",
    "modelo.intercept_"
   ]
  },
  {
   "cell_type": "code",
   "execution_count": 37,
   "id": "7bded34b",
   "metadata": {},
   "outputs": [
    {
     "data": {
      "text/plain": [
       "array([0.97395135])"
      ]
     },
     "execution_count": 37,
     "metadata": {},
     "output_type": "execute_result"
    }
   ],
   "source": [
    "# coeficiente\n",
    "modelo.coef_"
   ]
  },
  {
   "cell_type": "code",
   "execution_count": 39,
   "id": "c6302be8",
   "metadata": {},
   "outputs": [
    {
     "data": {
      "text/plain": [
       "0.9759960297146668"
      ]
     },
     "execution_count": 39,
     "metadata": {},
     "output_type": "execute_result"
    }
   ],
   "source": [
    "# calcula o score do modelo para sabermos o quão eficiente ele é\n",
    "modelo.score(x,y)"
   ]
  },
  {
   "cell_type": "code",
   "execution_count": 42,
   "id": "61c96b3d",
   "metadata": {},
   "outputs": [],
   "source": [
    "# faz as previsões baseada na regressão linear\n",
    "previsoes = modelo.predict(x)"
   ]
  },
  {
   "cell_type": "code",
   "execution_count": 41,
   "id": "a6a5c237",
   "metadata": {},
   "outputs": [
    {
     "data": {
      "text/html": [
       "<div>\n",
       "<style scoped>\n",
       "    .dataframe tbody tr th:only-of-type {\n",
       "        vertical-align: middle;\n",
       "    }\n",
       "\n",
       "    .dataframe tbody tr th {\n",
       "        vertical-align: top;\n",
       "    }\n",
       "\n",
       "    .dataframe thead th {\n",
       "        text-align: right;\n",
       "    }\n",
       "</style>\n",
       "<table border=\"1\" class=\"dataframe\">\n",
       "  <thead>\n",
       "    <tr style=\"text-align: right;\">\n",
       "      <th></th>\n",
       "      <th>descricao</th>\n",
       "      <th>criado</th>\n",
       "      <th>qtdInsumos</th>\n",
       "      <th>calculado</th>\n",
       "      <th>correto</th>\n",
       "    </tr>\n",
       "  </thead>\n",
       "  <tbody>\n",
       "    <tr>\n",
       "      <th>0</th>\n",
       "      <td>30 CAP | BUPROPIONA CLORIDRATO  150MG</td>\n",
       "      <td>2020-08-05 23:19:09</td>\n",
       "      <td>1</td>\n",
       "      <td>47.529700</td>\n",
       "      <td>39.900000</td>\n",
       "    </tr>\n",
       "    <tr>\n",
       "      <th>1</th>\n",
       "      <td>60 CAP | FINASTERIDA 1:10  1MG</td>\n",
       "      <td>2020-08-05 22:51:09</td>\n",
       "      <td>1</td>\n",
       "      <td>46.962000</td>\n",
       "      <td>43.600000</td>\n",
       "    </tr>\n",
       "    <tr>\n",
       "      <th>2</th>\n",
       "      <td>60 CAP | NAC  250MG; SILIMARINA  150MG; SAME  ...</td>\n",
       "      <td>2020-08-05 22:51:09</td>\n",
       "      <td>3</td>\n",
       "      <td>35.046333</td>\n",
       "      <td>37.133333</td>\n",
       "    </tr>\n",
       "    <tr>\n",
       "      <th>3</th>\n",
       "      <td>60 CAP | ANASTROZOL 1:10 0.300MG</td>\n",
       "      <td>2020-08-05 22:51:09</td>\n",
       "      <td>1</td>\n",
       "      <td>49.031400</td>\n",
       "      <td>43.600000</td>\n",
       "    </tr>\n",
       "    <tr>\n",
       "      <th>4</th>\n",
       "      <td>120 CAP | DUTASTERIDA 0.250MG; TADALAFIL  10MG</td>\n",
       "      <td>2020-08-05 22:49:09</td>\n",
       "      <td>2</td>\n",
       "      <td>80.913600</td>\n",
       "      <td>73.000000</td>\n",
       "    </tr>\n",
       "  </tbody>\n",
       "</table>\n",
       "</div>"
      ],
      "text/plain": [
       "                                           descricao               criado  \\\n",
       "0              30 CAP | BUPROPIONA CLORIDRATO  150MG  2020-08-05 23:19:09   \n",
       "1                     60 CAP | FINASTERIDA 1:10  1MG  2020-08-05 22:51:09   \n",
       "2  60 CAP | NAC  250MG; SILIMARINA  150MG; SAME  ...  2020-08-05 22:51:09   \n",
       "3                   60 CAP | ANASTROZOL 1:10 0.300MG  2020-08-05 22:51:09   \n",
       "4     120 CAP | DUTASTERIDA 0.250MG; TADALAFIL  10MG  2020-08-05 22:49:09   \n",
       "\n",
       "   qtdInsumos  calculado    correto  \n",
       "0           1  47.529700  39.900000  \n",
       "1           1  46.962000  43.600000  \n",
       "2           3  35.046333  37.133333  \n",
       "3           1  49.031400  43.600000  \n",
       "4           2  80.913600  73.000000  "
      ]
     },
     "execution_count": 41,
     "metadata": {},
     "output_type": "execute_result"
    }
   ],
   "source": [
    "df_teste.head()"
   ]
  },
  {
   "cell_type": "code",
   "execution_count": 46,
   "id": "afb4aa8f",
   "metadata": {},
   "outputs": [
    {
     "data": {
      "text/plain": [
       "array([48.09972838])"
      ]
     },
     "execution_count": 46,
     "metadata": {},
     "output_type": "execute_result"
    }
   ],
   "source": [
    "# 1º exemplo de previsão\n",
    "# 60 CAP | ANASTROZOL 1:10 0.300MG\t2020-08-05 22:51:09\t1 (49.031400 43.600000)\n",
    "previsoes = modelo.predict([[49.031400]])\n",
    "previsoes"
   ]
  },
  {
   "cell_type": "code",
   "execution_count": 47,
   "id": "8f712c51",
   "metadata": {},
   "outputs": [
    {
     "data": {
      "text/plain": [
       "array([34.47895345])"
      ]
     },
     "execution_count": 47,
     "metadata": {},
     "output_type": "execute_result"
    }
   ],
   "source": [
    "# 2º exemplo de previsão\n",
    "# 60 CAP | NAC 250MG; SILIMARINA 150MG; SAME ...2020-08-05 22:51:09\t3 (35.046333 37.133333)\n",
    "previsoes = modelo.predict([[35.046333]])\n",
    "previsoes"
   ]
  },
  {
   "cell_type": "code",
   "execution_count": 48,
   "id": "0bfaa9d1",
   "metadata": {},
   "outputs": [
    {
     "data": {
      "text/plain": [
       "array([46.08423345])"
      ]
     },
     "execution_count": 48,
     "metadata": {},
     "output_type": "execute_result"
    }
   ],
   "source": [
    "# 3º exemplo de previsão\n",
    "# 60 CAP | FINASTERIDA 1:10 1MG\t2020-08-05 22:51:09\t1 (46.962000 43.600000)\n",
    "previsoes = modelo.predict([[46.962000]])\n",
    "previsoes"
   ]
  },
  {
   "cell_type": "code",
   "execution_count": 50,
   "id": "a67bc3a7",
   "metadata": {},
   "outputs": [
    {
     "ename": "NameError",
     "evalue": "name 'iris' is not defined",
     "output_type": "error",
     "traceback": [
      "\u001b[1;31m---------------------------------------------------------------------------\u001b[0m",
      "\u001b[1;31mNameError\u001b[0m                                 Traceback (most recent call last)",
      "\u001b[1;32m<ipython-input-50-6d4430020ff1>\u001b[0m in \u001b[0;36m<module>\u001b[1;34m\u001b[0m\n\u001b[0;32m      1\u001b[0m \u001b[1;31m# usando o método cross validation podemos validar nosso modelo, mas antes fazer fazer testes e treinos\u001b[0m\u001b[1;33m\u001b[0m\u001b[1;33m\u001b[0m\u001b[1;33m\u001b[0m\u001b[0m\n\u001b[1;32m----> 2\u001b[1;33m \u001b[0mx_train\u001b[0m\u001b[1;33m,\u001b[0m \u001b[0mx_test\u001b[0m\u001b[1;33m,\u001b[0m \u001b[0my_train\u001b[0m\u001b[1;33m,\u001b[0m \u001b[0my_test\u001b[0m \u001b[1;33m=\u001b[0m \u001b[0mtrain_test_split\u001b[0m\u001b[1;33m(\u001b[0m\u001b[0miris\u001b[0m\u001b[1;33m.\u001b[0m\u001b[0mdata\u001b[0m\u001b[1;33m,\u001b[0m\u001b[0miris\u001b[0m\u001b[1;33m.\u001b[0m\u001b[0mtarget\u001b[0m\u001b[1;33m,\u001b[0m \u001b[0mtest_size\u001b[0m\u001b[1;33m=\u001b[0m \u001b[1;36m0.3\u001b[0m\u001b[1;33m)\u001b[0m\u001b[1;33m\u001b[0m\u001b[1;33m\u001b[0m\u001b[0m\n\u001b[0m\u001b[0;32m      3\u001b[0m \u001b[1;31m# usamos o svm(Support Vector Machines) com o svc(Linear Support Vector Classification)\u001b[0m\u001b[1;33m\u001b[0m\u001b[1;33m\u001b[0m\u001b[1;33m\u001b[0m\u001b[0m\n\u001b[0;32m      4\u001b[0m \u001b[0mclf\u001b[0m \u001b[1;33m=\u001b[0m \u001b[0msvm\u001b[0m\u001b[1;33m.\u001b[0m\u001b[0mSVC\u001b[0m\u001b[1;33m(\u001b[0m\u001b[0mgamma\u001b[0m\u001b[1;33m=\u001b[0m\u001b[1;34m\"auto\"\u001b[0m\u001b[1;33m)\u001b[0m\u001b[1;33m\u001b[0m\u001b[1;33m\u001b[0m\u001b[0m\n\u001b[0;32m      5\u001b[0m \u001b[1;31m# treinando o clf\u001b[0m\u001b[1;33m\u001b[0m\u001b[1;33m\u001b[0m\u001b[1;33m\u001b[0m\u001b[0m\n",
      "\u001b[1;31mNameError\u001b[0m: name 'iris' is not defined"
     ]
    }
   ],
   "source": [
    "# usando o método cross validation podemos validar nosso modelo, mas antes fazer fazer testes e treinos\n",
    "x_train, x_test, y_train, y_test = train_test_split(iris.data,iris.target, test_size= 0.3)\n",
    "# usamos o svm(Support Vector Machines) com o svc(Linear Support Vector Classification)\n",
    "clf = svm.SVC(gamma=\"auto\")\n",
    "# treinando o clf\n",
    "clf.fit(x_train,y_train)\n",
    "# calculamos o score para saber o quão eficiente é o nosso modelo\n",
    "clf.score(x_test,y_test)\n",
    "# usamos a validação cruzada com 5 dobras\n",
    "scores = cross_val_score(clf, iris.data, iris.target, cv = 5, scoring = \"accuracy\")\n",
    "# usamos a média dos scores (cada treino/teste tem um score, por isso precisamos da média)\n",
    "scores.mean()"
   ]
  },
  {
   "cell_type": "code",
   "execution_count": 51,
   "id": "60c27b8c",
   "metadata": {},
   "outputs": [
    {
     "data": {
      "text/plain": [
       "array([[ 0.,  0.,  2.],\n",
       "       [ 1.,  0.,  0.],\n",
       "       [-1.,  2.,  0.]])"
      ]
     },
     "execution_count": 51,
     "metadata": {},
     "output_type": "execute_result"
    }
   ],
   "source": [
    "# usando o método RobustScaler para achar os outliers\n",
    "X = [[ 1., 0.,  2.], [ 2.,  0.,  -1.], [ 0.,  2., -1.]]\n",
    "transformer = RobustScaler().fit(X)\n",
    "transformer.transform(X)"
   ]
  },
  {
   "cell_type": "code",
   "execution_count": null,
   "id": "51152e23",
   "metadata": {},
   "outputs": [],
   "source": [
    "# podemos criar uma função para usar o método de tukey e achar os outliers\n",
    "# método tukey: consiste em achar os limites inferior e superior e não admitir qualquer ponto fora desses limites\n",
    "def removeoutlier(values):\n",
    "\n",
    "    fator = 1.5\n",
    "\n",
    "    q3, q1 = np.percentile(values, [75, 25])\n",
    "\n",
    "    iqr = (q3)-(q1)\n",
    "\n",
    "    lowpass = q1 - (iqr * fator)\n",
    "\n",
    "    highpass = q3 + (iqr * fator)\n",
    "\n",
    "    return [v for v in values if v > lowpass and v < highpass]"
   ]
  }
 ],
 "metadata": {
  "kernelspec": {
   "display_name": "Python 3",
   "language": "python",
   "name": "python3"
  },
  "language_info": {
   "codemirror_mode": {
    "name": "ipython",
    "version": 3
   },
   "file_extension": ".py",
   "mimetype": "text/x-python",
   "name": "python",
   "nbconvert_exporter": "python",
   "pygments_lexer": "ipython3",
   "version": "3.8.8"
  }
 },
 "nbformat": 4,
 "nbformat_minor": 5
}
