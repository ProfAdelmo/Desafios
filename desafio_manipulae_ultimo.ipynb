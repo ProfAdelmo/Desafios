{
 "cells": [
  {
   "cell_type": "markdown",
   "id": "1a85Cko6XwMt",
   "metadata": {
    "id": "1a85Cko6XwMt"
   },
   "source": [
    "## Desafio Machine Learning - Manipulae\n",
    "\n",
    "Este repositório contém um dataset com 7121 fórmulas de medicamentos manipulados. O objetivo do teste é prever o valor da coluna \"correto\" com menor erro possível a partir das outras informações do dataset dos 7121 pontos de dados, podem usar no máximo os primeiros 5121 dados do dataset para prever os últimos 2000"
   ]
  },
  {
   "cell_type": "markdown",
   "id": "1c745f31",
   "metadata": {},
   "source": [
    "Resolução:\n",
    "\n",
    "1) Fizemos a Análise dos dados para ajustarmos o dataframe\n",
    "\n",
    "2) visualizamos os outliers com os gráficos\n",
    "\n",
    "3) achamos com o método de Tukey\n",
    "\n",
    "4) Retiramos do nosso domínio\n",
    "\n",
    "5) Criamos o modelo com o novo conjunto de dados e treinamos este modelo\n",
    "\n",
    "6) fizemos a previsão com a regressão linear simples\n",
    "\n",
    "7) fizemos a média daquele intervalo para visualizar se o valor previsto estava muito distante\n",
    "\n",
    "8) mostramos graficamente a dispersão com a reta da previsão"
   ]
  },
  {
   "cell_type": "markdown",
   "id": "3lVVUokXYB2d",
   "metadata": {
    "id": "3lVVUokXYB2d"
   },
   "source": [
    "## Importando as Bibliotecas necessárias e criando a função dos outliers\n",
    "##### a função dos outliers foi baseada no método de Tukey ou mais conhecido como boxplot define limites inferior e superior"
   ]
  },
  {
   "cell_type": "code",
   "execution_count": 2,
   "id": "24b8abb3",
   "metadata": {
    "id": "24b8abb3"
   },
   "outputs": [],
   "source": [
    "# Pandas pelo dataframe\n",
    "from pandas import read_csv as pd_read_csv\n",
    "\n",
    "# Numpy pelas operações matemáticas (array por ex.)\n",
    "from numpy import percentile as np_percentile, unique as np_unique\n",
    "from yellowbrick.regressor import ResidualsPlot\n",
    "\n",
    "# Sklearn.model_selection pela regressão linear, split de treino e teste e Validação Cruzada\n",
    "from sklearn.linear_model import LinearRegression\n",
    "from sklearn.model_selection import train_test_split\n",
    "from sklearn.model_selection import cross_val_score\n",
    "\n",
    "# Sklearn.metrics para medir os errosfrom sklearn.metrics import mean_absolute_error\n",
    "from sklearn.metrics import mean_squared_error\n",
    "from sklearn.metrics import mean_absolute_percentage_error\n",
    "from sklearn.metrics import mean_absolute_error\n",
    "\n",
    "# Sklearn.preprocessing para usar método RobustScaler para achar os outlier\n",
    "from sklearn.preprocessing import RobustScaler\n",
    "\n",
    "# Matplotlib pelos gráficos\n",
    "from matplotlib import pyplot as plt\n",
    "\n",
    "%matplotlib inline"
   ]
  },
  {
   "cell_type": "code",
   "execution_count": 58,
   "id": "em5blf6dngjA",
   "metadata": {
    "id": "em5blf6dngjA"
   },
   "outputs": [],
   "source": [
    "# faz upgrade da biblioteca que está desatualizada\n",
    "# !pip install yellowbrick --upgrade"
   ]
  },
  {
   "cell_type": "code",
   "execution_count": 4,
   "id": "xS0lqPP_zKMr",
   "metadata": {
    "id": "xS0lqPP_zKMr"
   },
   "outputs": [],
   "source": [
    "# podemos criar uma função para usar o método de tukey e achar os outliers\n",
    "# método tukey: consiste em achar os limites inferior e superior e não admitir qualquer ponto fora desses limites\n",
    "def remove_outlier(values):\n",
    "    \"\"\"\n",
    "    Remove valores discrepantes.\n",
    "\n",
    "    Parameters\n",
    "    ----------\n",
    "    values : list[float]\n",
    "        Lista de valores.\n",
    "\n",
    "    Returns\n",
    "    -------\n",
    "    result : list[float]\n",
    "        Lista de valores sem os valores discrepantes.\n",
    "    \"\"\"\n",
    "\n",
    "    fator = 1.5\n",
    "\n",
    "    q3, q1 = np_percentile(values, [75, 25])\n",
    "\n",
    "    iqr = (q3)-(q1)\n",
    "\n",
    "    lowpass = q1 - (iqr * fator)\n",
    "\n",
    "    highpass = q3 + (iqr * fator)\n",
    "\n",
    "    result = [v for v in values if v > lowpass and v < highpass]\n",
    "\n",
    "    return result"
   ]
  },
  {
   "cell_type": "markdown",
   "id": "4-Vc8zpJZlfI",
   "metadata": {
    "id": "4-Vc8zpJZlfI"
   },
   "source": [
    "## Análise Exploratória"
   ]
  },
  {
   "cell_type": "code",
   "execution_count": 5,
   "id": "5699d1ce",
   "metadata": {
    "id": "5699d1ce"
   },
   "outputs": [],
   "source": [
    "# vamos ler a tabela CSV\n",
    "df = pd_read_csv(\"https://raw.githubusercontent.com/manipulaeHealth/desafio-machine-learning/main/dados_preco.csv\")"
   ]
  },
  {
   "cell_type": "code",
   "execution_count": 6,
   "id": "gMhhH0p_cwMx",
   "metadata": {
    "colab": {
     "base_uri": "https://localhost:8080/"
    },
    "id": "gMhhH0p_cwMx",
    "outputId": "24221f80-f5d7-4fbe-ab76-faffa16c82d1"
   },
   "outputs": [
    {
     "data": {
      "text/plain": [
       "(7121, 5)"
      ]
     },
     "execution_count": 6,
     "metadata": {},
     "output_type": "execute_result"
    }
   ],
   "source": [
    "# forma dos dados\n",
    "df.shape"
   ]
  },
  {
   "cell_type": "code",
   "execution_count": 7,
   "id": "9NhhceXgdwkv",
   "metadata": {
    "colab": {
     "base_uri": "https://localhost:8080/"
    },
    "id": "9NhhceXgdwkv",
    "outputId": "8ecef4b6-d403-4e2d-ea0c-0e77ea87f6da"
   },
   "outputs": [
    {
     "data": {
      "text/plain": [
       "descricao      object\n",
       "criado         object\n",
       "qtdInsumos      int64\n",
       "calculado     float64\n",
       "correto       float64\n",
       "dtype: object"
      ]
     },
     "execution_count": 7,
     "metadata": {},
     "output_type": "execute_result"
    }
   ],
   "source": [
    "# tipos dos dados\n",
    "df.dtypes"
   ]
  },
  {
   "cell_type": "code",
   "execution_count": 8,
   "id": "ed69844e",
   "metadata": {
    "colab": {
     "base_uri": "https://localhost:8080/"
    },
    "id": "ed69844e",
    "outputId": "51029c7b-6369-45c7-b389-7cd9b6a4a386"
   },
   "outputs": [
    {
     "data": {
      "text/plain": [
       "descricao     0\n",
       "criado        0\n",
       "qtdInsumos    0\n",
       "calculado     0\n",
       "correto       0\n",
       "dtype: int64"
      ]
     },
     "execution_count": 8,
     "metadata": {},
     "output_type": "execute_result"
    }
   ],
   "source": [
    "# vamos ver quantos valores nulos tem\n",
    "df.isna().sum()"
   ]
  },
  {
   "cell_type": "code",
   "execution_count": 9,
   "id": "ZidHJgEredX_",
   "metadata": {
    "colab": {
     "base_uri": "https://localhost:8080/",
     "height": 359
    },
    "id": "ZidHJgEredX_",
    "outputId": "87337a9c-931b-4aaa-9b58-cec0d669e3ed"
   },
   "outputs": [
    {
     "data": {
      "text/html": [
       "<div>\n",
       "<style scoped>\n",
       "    .dataframe tbody tr th:only-of-type {\n",
       "        vertical-align: middle;\n",
       "    }\n",
       "\n",
       "    .dataframe tbody tr th {\n",
       "        vertical-align: top;\n",
       "    }\n",
       "\n",
       "    .dataframe thead th {\n",
       "        text-align: right;\n",
       "    }\n",
       "</style>\n",
       "<table border=\"1\" class=\"dataframe\">\n",
       "  <thead>\n",
       "    <tr style=\"text-align: right;\">\n",
       "      <th></th>\n",
       "      <th>descricao</th>\n",
       "      <th>criado</th>\n",
       "      <th>qtdInsumos</th>\n",
       "      <th>calculado</th>\n",
       "      <th>correto</th>\n",
       "    </tr>\n",
       "  </thead>\n",
       "  <tbody>\n",
       "    <tr>\n",
       "      <th>0</th>\n",
       "      <td>30 CAP | BUPROPIONA CLORIDRATO  150MG</td>\n",
       "      <td>2020-08-05 23:19:09</td>\n",
       "      <td>1</td>\n",
       "      <td>47.5297</td>\n",
       "      <td>39.9</td>\n",
       "    </tr>\n",
       "    <tr>\n",
       "      <th>1</th>\n",
       "      <td>60 CAP | FINASTERIDA 1:10  1MG</td>\n",
       "      <td>2020-08-05 22:51:09</td>\n",
       "      <td>1</td>\n",
       "      <td>46.9620</td>\n",
       "      <td>43.6</td>\n",
       "    </tr>\n",
       "    <tr>\n",
       "      <th>2</th>\n",
       "      <td>60 CAP | NAC  250MG; SILIMARINA  150MG; SAME  ...</td>\n",
       "      <td>2020-08-05 22:51:09</td>\n",
       "      <td>3</td>\n",
       "      <td>105.1390</td>\n",
       "      <td>111.4</td>\n",
       "    </tr>\n",
       "    <tr>\n",
       "      <th>3</th>\n",
       "      <td>60 CAP | ANASTROZOL 1:10 0.300MG</td>\n",
       "      <td>2020-08-05 22:51:09</td>\n",
       "      <td>1</td>\n",
       "      <td>49.0314</td>\n",
       "      <td>43.6</td>\n",
       "    </tr>\n",
       "    <tr>\n",
       "      <th>4</th>\n",
       "      <td>120 CAP | DUTASTERIDA 0.250MG; TADALAFIL  10MG</td>\n",
       "      <td>2020-08-05 22:49:09</td>\n",
       "      <td>2</td>\n",
       "      <td>161.8272</td>\n",
       "      <td>146.0</td>\n",
       "    </tr>\n",
       "    <tr>\n",
       "      <th>5</th>\n",
       "      <td>240 CAP | TRIIODOTIRONINA SLOW RELEASE  12MCG</td>\n",
       "      <td>2020-08-05 22:48:09</td>\n",
       "      <td>1</td>\n",
       "      <td>40.6362</td>\n",
       "      <td>77.0</td>\n",
       "    </tr>\n",
       "    <tr>\n",
       "      <th>6</th>\n",
       "      <td>120 CAP | T4  60MCG</td>\n",
       "      <td>2020-08-05 22:47:09</td>\n",
       "      <td>1</td>\n",
       "      <td>35.1005</td>\n",
       "      <td>50.0</td>\n",
       "    </tr>\n",
       "    <tr>\n",
       "      <th>7</th>\n",
       "      <td>60 CAP | VITAMINA B2  30MG; VITAMINA B3  60MG;...</td>\n",
       "      <td>2020-08-05 22:40:09</td>\n",
       "      <td>14</td>\n",
       "      <td>248.2063</td>\n",
       "      <td>272.2</td>\n",
       "    </tr>\n",
       "    <tr>\n",
       "      <th>8</th>\n",
       "      <td>60 CAP | CORTISOL  20MG; PRASTERONA  20MG</td>\n",
       "      <td>2020-08-05 22:37:10</td>\n",
       "      <td>2</td>\n",
       "      <td>220.1472</td>\n",
       "      <td>206.6</td>\n",
       "    </tr>\n",
       "    <tr>\n",
       "      <th>9</th>\n",
       "      <td>30 CAP | TADALAFIL  10MG; ARGININA  2G</td>\n",
       "      <td>2020-08-05 22:37:10</td>\n",
       "      <td>2</td>\n",
       "      <td>134.5175</td>\n",
       "      <td>127.4</td>\n",
       "    </tr>\n",
       "  </tbody>\n",
       "</table>\n",
       "</div>"
      ],
      "text/plain": [
       "                                           descricao               criado  \\\n",
       "0              30 CAP | BUPROPIONA CLORIDRATO  150MG  2020-08-05 23:19:09   \n",
       "1                     60 CAP | FINASTERIDA 1:10  1MG  2020-08-05 22:51:09   \n",
       "2  60 CAP | NAC  250MG; SILIMARINA  150MG; SAME  ...  2020-08-05 22:51:09   \n",
       "3                   60 CAP | ANASTROZOL 1:10 0.300MG  2020-08-05 22:51:09   \n",
       "4     120 CAP | DUTASTERIDA 0.250MG; TADALAFIL  10MG  2020-08-05 22:49:09   \n",
       "5      240 CAP | TRIIODOTIRONINA SLOW RELEASE  12MCG  2020-08-05 22:48:09   \n",
       "6                                120 CAP | T4  60MCG  2020-08-05 22:47:09   \n",
       "7  60 CAP | VITAMINA B2  30MG; VITAMINA B3  60MG;...  2020-08-05 22:40:09   \n",
       "8          60 CAP | CORTISOL  20MG; PRASTERONA  20MG  2020-08-05 22:37:10   \n",
       "9             30 CAP | TADALAFIL  10MG; ARGININA  2G  2020-08-05 22:37:10   \n",
       "\n",
       "   qtdInsumos  calculado  correto  \n",
       "0           1    47.5297     39.9  \n",
       "1           1    46.9620     43.6  \n",
       "2           3   105.1390    111.4  \n",
       "3           1    49.0314     43.6  \n",
       "4           2   161.8272    146.0  \n",
       "5           1    40.6362     77.0  \n",
       "6           1    35.1005     50.0  \n",
       "7          14   248.2063    272.2  \n",
       "8           2   220.1472    206.6  \n",
       "9           2   134.5175    127.4  "
      ]
     },
     "execution_count": 9,
     "metadata": {},
     "output_type": "execute_result"
    }
   ],
   "source": [
    "# visualizar as primeiras linhas\n",
    "df.head(10)"
   ]
  },
  {
   "cell_type": "code",
   "execution_count": 10,
   "id": "I3KKOU5LfBqT",
   "metadata": {
    "colab": {
     "base_uri": "https://localhost:8080/",
     "height": 359
    },
    "id": "I3KKOU5LfBqT",
    "outputId": "0c31ad16-b656-49e5-8b2a-6f9987298812"
   },
   "outputs": [
    {
     "data": {
      "text/html": [
       "<div>\n",
       "<style scoped>\n",
       "    .dataframe tbody tr th:only-of-type {\n",
       "        vertical-align: middle;\n",
       "    }\n",
       "\n",
       "    .dataframe tbody tr th {\n",
       "        vertical-align: top;\n",
       "    }\n",
       "\n",
       "    .dataframe thead th {\n",
       "        text-align: right;\n",
       "    }\n",
       "</style>\n",
       "<table border=\"1\" class=\"dataframe\">\n",
       "  <thead>\n",
       "    <tr style=\"text-align: right;\">\n",
       "      <th></th>\n",
       "      <th>descricao</th>\n",
       "      <th>criado</th>\n",
       "      <th>qtdInsumos</th>\n",
       "      <th>calculado</th>\n",
       "      <th>correto</th>\n",
       "    </tr>\n",
       "  </thead>\n",
       "  <tbody>\n",
       "    <tr>\n",
       "      <th>7111</th>\n",
       "      <td>90 CAP | ACIDOPHILUS LACTOBACILLUS  100MG; BIF...</td>\n",
       "      <td>2020-07-09 17:39:10</td>\n",
       "      <td>6</td>\n",
       "      <td>122.6624</td>\n",
       "      <td>111.0</td>\n",
       "    </tr>\n",
       "    <tr>\n",
       "      <th>7112</th>\n",
       "      <td>36 CAP | VITAMINA D  7000UI</td>\n",
       "      <td>2020-07-09 17:39:10</td>\n",
       "      <td>1</td>\n",
       "      <td>33.7296</td>\n",
       "      <td>44.0</td>\n",
       "    </tr>\n",
       "    <tr>\n",
       "      <th>7113</th>\n",
       "      <td>90 CAP | CARDO MARIANO  100MG; ALTILIX (BIONAP...</td>\n",
       "      <td>2020-07-09 17:38:10</td>\n",
       "      <td>2</td>\n",
       "      <td>347.3672</td>\n",
       "      <td>325.0</td>\n",
       "    </tr>\n",
       "    <tr>\n",
       "      <th>7114</th>\n",
       "      <td>30 CAP | PASSIFLORA PO  200MG; MELISSA EXT SEC...</td>\n",
       "      <td>2020-07-09 17:37:09</td>\n",
       "      <td>3</td>\n",
       "      <td>45.7487</td>\n",
       "      <td>40.0</td>\n",
       "    </tr>\n",
       "    <tr>\n",
       "      <th>7115</th>\n",
       "      <td>90 CAP | TRIPTOFANO  300MG; ASHWAGANDHA EXTRAT...</td>\n",
       "      <td>2020-07-09 17:34:09</td>\n",
       "      <td>2</td>\n",
       "      <td>185.9843</td>\n",
       "      <td>178.3</td>\n",
       "    </tr>\n",
       "    <tr>\n",
       "      <th>7116</th>\n",
       "      <td>45 CAP | SERTRALINA CLORIDRATO  40MG; SLENDEST...</td>\n",
       "      <td>2020-07-09 17:33:11</td>\n",
       "      <td>12</td>\n",
       "      <td>188.5325</td>\n",
       "      <td>181.8</td>\n",
       "    </tr>\n",
       "    <tr>\n",
       "      <th>7117</th>\n",
       "      <td>120 CAP | GREENSELECT  120MG</td>\n",
       "      <td>2020-07-09 17:24:09</td>\n",
       "      <td>1</td>\n",
       "      <td>377.6529</td>\n",
       "      <td>346.6</td>\n",
       "    </tr>\n",
       "    <tr>\n",
       "      <th>7118</th>\n",
       "      <td>60 CAP | MAGNESIO QUELADO 30%  220MG; SELENIO ...</td>\n",
       "      <td>2020-07-09 17:23:10</td>\n",
       "      <td>11</td>\n",
       "      <td>166.2868</td>\n",
       "      <td>157.2</td>\n",
       "    </tr>\n",
       "    <tr>\n",
       "      <th>7119</th>\n",
       "      <td>30 CAP | VALERIANA  50MG; PASSIFLORA  500MG; C...</td>\n",
       "      <td>2020-07-09 17:22:09</td>\n",
       "      <td>3</td>\n",
       "      <td>60.1646</td>\n",
       "      <td>68.1</td>\n",
       "    </tr>\n",
       "    <tr>\n",
       "      <th>7120</th>\n",
       "      <td>60 CAP | ACIDO TRANEXAMICO  200MG; BIOTINA 2.5...</td>\n",
       "      <td>2020-07-09 17:14:09</td>\n",
       "      <td>2</td>\n",
       "      <td>107.0370</td>\n",
       "      <td>95.3</td>\n",
       "    </tr>\n",
       "  </tbody>\n",
       "</table>\n",
       "</div>"
      ],
      "text/plain": [
       "                                              descricao               criado  \\\n",
       "7111  90 CAP | ACIDOPHILUS LACTOBACILLUS  100MG; BIF...  2020-07-09 17:39:10   \n",
       "7112                        36 CAP | VITAMINA D  7000UI  2020-07-09 17:39:10   \n",
       "7113  90 CAP | CARDO MARIANO  100MG; ALTILIX (BIONAP...  2020-07-09 17:38:10   \n",
       "7114  30 CAP | PASSIFLORA PO  200MG; MELISSA EXT SEC...  2020-07-09 17:37:09   \n",
       "7115  90 CAP | TRIPTOFANO  300MG; ASHWAGANDHA EXTRAT...  2020-07-09 17:34:09   \n",
       "7116  45 CAP | SERTRALINA CLORIDRATO  40MG; SLENDEST...  2020-07-09 17:33:11   \n",
       "7117                       120 CAP | GREENSELECT  120MG  2020-07-09 17:24:09   \n",
       "7118  60 CAP | MAGNESIO QUELADO 30%  220MG; SELENIO ...  2020-07-09 17:23:10   \n",
       "7119  30 CAP | VALERIANA  50MG; PASSIFLORA  500MG; C...  2020-07-09 17:22:09   \n",
       "7120  60 CAP | ACIDO TRANEXAMICO  200MG; BIOTINA 2.5...  2020-07-09 17:14:09   \n",
       "\n",
       "      qtdInsumos  calculado  correto  \n",
       "7111           6   122.6624    111.0  \n",
       "7112           1    33.7296     44.0  \n",
       "7113           2   347.3672    325.0  \n",
       "7114           3    45.7487     40.0  \n",
       "7115           2   185.9843    178.3  \n",
       "7116          12   188.5325    181.8  \n",
       "7117           1   377.6529    346.6  \n",
       "7118          11   166.2868    157.2  \n",
       "7119           3    60.1646     68.1  \n",
       "7120           2   107.0370     95.3  "
      ]
     },
     "execution_count": 10,
     "metadata": {},
     "output_type": "execute_result"
    }
   ],
   "source": [
    "# visualizar as ultimas linhas\n",
    "df.tail(10)"
   ]
  },
  {
   "cell_type": "code",
   "execution_count": 11,
   "id": "f44e46f3",
   "metadata": {
    "colab": {
     "base_uri": "https://localhost:8080/",
     "height": 297
    },
    "id": "f44e46f3",
    "outputId": "d3a394a1-6f45-4f23-a94b-d492eef68438"
   },
   "outputs": [
    {
     "data": {
      "text/html": [
       "<div>\n",
       "<style scoped>\n",
       "    .dataframe tbody tr th:only-of-type {\n",
       "        vertical-align: middle;\n",
       "    }\n",
       "\n",
       "    .dataframe tbody tr th {\n",
       "        vertical-align: top;\n",
       "    }\n",
       "\n",
       "    .dataframe thead th {\n",
       "        text-align: right;\n",
       "    }\n",
       "</style>\n",
       "<table border=\"1\" class=\"dataframe\">\n",
       "  <thead>\n",
       "    <tr style=\"text-align: right;\">\n",
       "      <th></th>\n",
       "      <th>qtdInsumos</th>\n",
       "      <th>calculado</th>\n",
       "      <th>correto</th>\n",
       "    </tr>\n",
       "  </thead>\n",
       "  <tbody>\n",
       "    <tr>\n",
       "      <th>count</th>\n",
       "      <td>7121.000000</td>\n",
       "      <td>7121.000000</td>\n",
       "      <td>7121.000000</td>\n",
       "    </tr>\n",
       "    <tr>\n",
       "      <th>mean</th>\n",
       "      <td>3.281842</td>\n",
       "      <td>137.089552</td>\n",
       "      <td>135.891798</td>\n",
       "    </tr>\n",
       "    <tr>\n",
       "      <th>std</th>\n",
       "      <td>3.194301</td>\n",
       "      <td>191.266516</td>\n",
       "      <td>189.806974</td>\n",
       "    </tr>\n",
       "    <tr>\n",
       "      <th>min</th>\n",
       "      <td>1.000000</td>\n",
       "      <td>30.000100</td>\n",
       "      <td>33.000000</td>\n",
       "    </tr>\n",
       "    <tr>\n",
       "      <th>25%</th>\n",
       "      <td>1.000000</td>\n",
       "      <td>49.786100</td>\n",
       "      <td>49.500000</td>\n",
       "    </tr>\n",
       "    <tr>\n",
       "      <th>50%</th>\n",
       "      <td>2.000000</td>\n",
       "      <td>87.350300</td>\n",
       "      <td>83.100000</td>\n",
       "    </tr>\n",
       "    <tr>\n",
       "      <th>75%</th>\n",
       "      <td>4.000000</td>\n",
       "      <td>165.167000</td>\n",
       "      <td>161.200000</td>\n",
       "    </tr>\n",
       "    <tr>\n",
       "      <th>max</th>\n",
       "      <td>26.000000</td>\n",
       "      <td>10364.992500</td>\n",
       "      <td>10356.000000</td>\n",
       "    </tr>\n",
       "  </tbody>\n",
       "</table>\n",
       "</div>"
      ],
      "text/plain": [
       "        qtdInsumos     calculado       correto\n",
       "count  7121.000000   7121.000000   7121.000000\n",
       "mean      3.281842    137.089552    135.891798\n",
       "std       3.194301    191.266516    189.806974\n",
       "min       1.000000     30.000100     33.000000\n",
       "25%       1.000000     49.786100     49.500000\n",
       "50%       2.000000     87.350300     83.100000\n",
       "75%       4.000000    165.167000    161.200000\n",
       "max      26.000000  10364.992500  10356.000000"
      ]
     },
     "execution_count": 11,
     "metadata": {},
     "output_type": "execute_result"
    }
   ],
   "source": [
    "# describe dá um resumo estatístico\n",
    "df.describe()"
   ]
  },
  {
   "cell_type": "code",
   "execution_count": 12,
   "id": "9Sbz2WZK7lIV",
   "metadata": {
    "colab": {
     "base_uri": "https://localhost:8080/",
     "height": 103
    },
    "id": "9Sbz2WZK7lIV",
    "outputId": "62135cf4-27b5-4bf3-f35a-230a44a8af99"
   },
   "outputs": [
    {
     "data": {
      "text/html": [
       "<style  type=\"text/css\" >\n",
       "#T_5b501_row0_col2{\n",
       "            width:  10em;\n",
       "             height:  80%;\n",
       "            background:  linear-gradient(90deg,#5fba7d 25.4%, transparent 25.4%);\n",
       "        }#T_5b501_row1_col2{\n",
       "            width:  10em;\n",
       "             height:  80%;\n",
       "            background:  linear-gradient(90deg,#5fba7d 98.2%, transparent 98.2%);\n",
       "        }#T_5b501_row2_col2{\n",
       "            width:  10em;\n",
       "             height:  80%;\n",
       "            background:  linear-gradient(90deg,#5fba7d 100.0%, transparent 100.0%);\n",
       "        }</style><table id=\"T_5b501_\" ><thead>    <tr>        <th class=\"blank level0\" ></th>        <th class=\"col_heading level0 col0\" >qtdInsumos</th>        <th class=\"col_heading level0 col1\" >calculado</th>        <th class=\"col_heading level0 col2\" >correto</th>    </tr></thead><tbody>\n",
       "                <tr>\n",
       "                        <th id=\"T_5b501_level0_row0\" class=\"row_heading level0 row0\" >qtdInsumos</th>\n",
       "                        <td id=\"T_5b501_row0_col0\" class=\"data row0 col0\" >1.000000</td>\n",
       "                        <td id=\"T_5b501_row0_col1\" class=\"data row0 col1\" >0.232302</td>\n",
       "                        <td id=\"T_5b501_row0_col2\" class=\"data row0 col2\" >0.254238</td>\n",
       "            </tr>\n",
       "            <tr>\n",
       "                        <th id=\"T_5b501_level0_row1\" class=\"row_heading level0 row1\" >calculado</th>\n",
       "                        <td id=\"T_5b501_row1_col0\" class=\"data row1 col0\" >0.232302</td>\n",
       "                        <td id=\"T_5b501_row1_col1\" class=\"data row1 col1\" >1.000000</td>\n",
       "                        <td id=\"T_5b501_row1_col2\" class=\"data row1 col2\" >0.982201</td>\n",
       "            </tr>\n",
       "            <tr>\n",
       "                        <th id=\"T_5b501_level0_row2\" class=\"row_heading level0 row2\" >correto</th>\n",
       "                        <td id=\"T_5b501_row2_col0\" class=\"data row2 col0\" >0.254238</td>\n",
       "                        <td id=\"T_5b501_row2_col1\" class=\"data row2 col1\" >0.982201</td>\n",
       "                        <td id=\"T_5b501_row2_col2\" class=\"data row2 col2\" >1.000000</td>\n",
       "            </tr>\n",
       "    </tbody></table>"
      ],
      "text/plain": [
       "<pandas.io.formats.style.Styler at 0x212df11b970>"
      ]
     },
     "execution_count": 12,
     "metadata": {},
     "output_type": "execute_result"
    }
   ],
   "source": [
    "# Criando uma matriz de correlação para cruzar as variáveis\n",
    "df.corr().style.bar(subset='correto', align='mid', color=['#d65f5f', '#5fba7d'])"
   ]
  },
  {
   "cell_type": "code",
   "execution_count": 13,
   "id": "f19ef1d8",
   "metadata": {
    "id": "f19ef1d8"
   },
   "outputs": [],
   "source": [
    "# vamos fazer uma cópia para não alterarmos o original\n",
    "df_teste = df.copy()"
   ]
  },
  {
   "cell_type": "code",
   "execution_count": 14,
   "id": "18215102",
   "metadata": {
    "colab": {
     "base_uri": "https://localhost:8080/",
     "height": 204
    },
    "id": "18215102",
    "outputId": "3d386359-b51e-4df0-adab-257ab65391d7"
   },
   "outputs": [
    {
     "data": {
      "text/html": [
       "<div>\n",
       "<style scoped>\n",
       "    .dataframe tbody tr th:only-of-type {\n",
       "        vertical-align: middle;\n",
       "    }\n",
       "\n",
       "    .dataframe tbody tr th {\n",
       "        vertical-align: top;\n",
       "    }\n",
       "\n",
       "    .dataframe thead th {\n",
       "        text-align: right;\n",
       "    }\n",
       "</style>\n",
       "<table border=\"1\" class=\"dataframe\">\n",
       "  <thead>\n",
       "    <tr style=\"text-align: right;\">\n",
       "      <th></th>\n",
       "      <th>descricao</th>\n",
       "      <th>criado</th>\n",
       "      <th>qtdInsumos</th>\n",
       "      <th>calculado</th>\n",
       "      <th>correto</th>\n",
       "    </tr>\n",
       "  </thead>\n",
       "  <tbody>\n",
       "    <tr>\n",
       "      <th>0</th>\n",
       "      <td>30 CAP | BUPROPIONA CLORIDRATO  150MG</td>\n",
       "      <td>2020-08-05 23:19:09</td>\n",
       "      <td>1</td>\n",
       "      <td>47.5297</td>\n",
       "      <td>39.9</td>\n",
       "    </tr>\n",
       "    <tr>\n",
       "      <th>1</th>\n",
       "      <td>60 CAP | FINASTERIDA 1:10  1MG</td>\n",
       "      <td>2020-08-05 22:51:09</td>\n",
       "      <td>1</td>\n",
       "      <td>46.9620</td>\n",
       "      <td>43.6</td>\n",
       "    </tr>\n",
       "    <tr>\n",
       "      <th>2</th>\n",
       "      <td>60 CAP | NAC  250MG; SILIMARINA  150MG; SAME  ...</td>\n",
       "      <td>2020-08-05 22:51:09</td>\n",
       "      <td>3</td>\n",
       "      <td>105.1390</td>\n",
       "      <td>111.4</td>\n",
       "    </tr>\n",
       "    <tr>\n",
       "      <th>3</th>\n",
       "      <td>60 CAP | ANASTROZOL 1:10 0.300MG</td>\n",
       "      <td>2020-08-05 22:51:09</td>\n",
       "      <td>1</td>\n",
       "      <td>49.0314</td>\n",
       "      <td>43.6</td>\n",
       "    </tr>\n",
       "    <tr>\n",
       "      <th>4</th>\n",
       "      <td>120 CAP | DUTASTERIDA 0.250MG; TADALAFIL  10MG</td>\n",
       "      <td>2020-08-05 22:49:09</td>\n",
       "      <td>2</td>\n",
       "      <td>161.8272</td>\n",
       "      <td>146.0</td>\n",
       "    </tr>\n",
       "  </tbody>\n",
       "</table>\n",
       "</div>"
      ],
      "text/plain": [
       "                                           descricao               criado  \\\n",
       "0              30 CAP | BUPROPIONA CLORIDRATO  150MG  2020-08-05 23:19:09   \n",
       "1                     60 CAP | FINASTERIDA 1:10  1MG  2020-08-05 22:51:09   \n",
       "2  60 CAP | NAC  250MG; SILIMARINA  150MG; SAME  ...  2020-08-05 22:51:09   \n",
       "3                   60 CAP | ANASTROZOL 1:10 0.300MG  2020-08-05 22:51:09   \n",
       "4     120 CAP | DUTASTERIDA 0.250MG; TADALAFIL  10MG  2020-08-05 22:49:09   \n",
       "\n",
       "   qtdInsumos  calculado  correto  \n",
       "0           1    47.5297     39.9  \n",
       "1           1    46.9620     43.6  \n",
       "2           3   105.1390    111.4  \n",
       "3           1    49.0314     43.6  \n",
       "4           2   161.8272    146.0  "
      ]
     },
     "execution_count": 14,
     "metadata": {},
     "output_type": "execute_result"
    }
   ],
   "source": [
    "# olhamos as primeiras linhas de todas as colunas do nosso dataframe\n",
    "df_teste.head()"
   ]
  },
  {
   "cell_type": "markdown",
   "id": "Ap3pKo8vfPrj",
   "metadata": {
    "id": "Ap3pKo8vfPrj"
   },
   "source": [
    "## Pré-Processamento"
   ]
  },
  {
   "cell_type": "code",
   "execution_count": 15,
   "id": "5e8b4a0e",
   "metadata": {
    "id": "5e8b4a0e"
   },
   "outputs": [],
   "source": [
    "# deixamos o preço \"calculado\" com o valor unitário de insumo\n",
    "# df_teste[\"calculado\"] = [calc/qtde for calc, qtde in df_teste[[\"calculado\", \"qtdInsumos\"]].values]\n",
    "df_teste[\"calculado\"] = df_teste[\"calculado\"] / df_teste[\"qtdInsumos\"]"
   ]
  },
  {
   "cell_type": "code",
   "execution_count": 16,
   "id": "38d9c383",
   "metadata": {
    "id": "38d9c383"
   },
   "outputs": [],
   "source": [
    "# deixamos o preço \"correto\" com o valor unitário\n",
    "# df_teste[\"correto\"] = [corr/qtde for corr, qtde in df_teste[[\"correto\",\"qtdInsumos\"]].values]\n",
    "df_teste[\"correto\"] = df_teste[\"correto\"] / df_teste[\"qtdInsumos\"]"
   ]
  },
  {
   "cell_type": "code",
   "execution_count": 17,
   "id": "156bde77",
   "metadata": {
    "id": "156bde77"
   },
   "outputs": [
    {
     "data": {
      "image/png": "[encoded data removed]",
      "text/plain": [
       "<Figure size 432x288 with 1 Axes>"
      ]
     },
     "metadata": {
      "needs_background": "light"
     },
     "output_type": "display_data"
    }
   ],
   "source": [
    "# gráfico de dispersão para tentarmos visualizar outliers\n",
    "plt.scatter(df_teste[\"calculado\"], df_teste[\"correto\"])\n",
    "plt.show()"
   ]
  },
  {
   "cell_type": "code",
   "execution_count": 18,
   "id": "4995a9b6",
   "metadata": {
    "id": "4995a9b6"
   },
   "outputs": [],
   "source": [
    "# Fatiando as linhas da 1 até a 5121\n",
    "x = df_teste.iloc[:5121, 3].values\n",
    "y = df_teste.iloc[:5121, 4].values"
   ]
  },
  {
   "cell_type": "code",
   "execution_count": 19,
   "id": "v-OGDReVzaZd",
   "metadata": {
    "id": "v-OGDReVzaZd"
   },
   "outputs": [],
   "source": [
    "# Aplicando Tukey para retirar os outlier\n",
    "df_teste = df_teste[df_teste['calculado'].isin(remove_outlier(x))]"
   ]
  },
  {
   "cell_type": "code",
   "execution_count": 20,
   "id": "lNzStQgE6Bbi",
   "metadata": {
    "id": "lNzStQgE6Bbi"
   },
   "outputs": [
    {
     "data": {
      "text/html": [
       "<div>\n",
       "<style scoped>\n",
       "    .dataframe tbody tr th:only-of-type {\n",
       "        vertical-align: middle;\n",
       "    }\n",
       "\n",
       "    .dataframe tbody tr th {\n",
       "        vertical-align: top;\n",
       "    }\n",
       "\n",
       "    .dataframe thead th {\n",
       "        text-align: right;\n",
       "    }\n",
       "</style>\n",
       "<table border=\"1\" class=\"dataframe\">\n",
       "  <thead>\n",
       "    <tr style=\"text-align: right;\">\n",
       "      <th></th>\n",
       "      <th>qtdInsumos</th>\n",
       "      <th>calculado</th>\n",
       "      <th>correto</th>\n",
       "    </tr>\n",
       "  </thead>\n",
       "  <tbody>\n",
       "    <tr>\n",
       "      <th>count</th>\n",
       "      <td>5040.000000</td>\n",
       "      <td>5040.000000</td>\n",
       "      <td>5040.000000</td>\n",
       "    </tr>\n",
       "    <tr>\n",
       "      <th>mean</th>\n",
       "      <td>3.274405</td>\n",
       "      <td>45.288435</td>\n",
       "      <td>45.602711</td>\n",
       "    </tr>\n",
       "    <tr>\n",
       "      <th>std</th>\n",
       "      <td>3.145020</td>\n",
       "      <td>30.249578</td>\n",
       "      <td>32.274965</td>\n",
       "    </tr>\n",
       "    <tr>\n",
       "      <th>min</th>\n",
       "      <td>1.000000</td>\n",
       "      <td>2.994540</td>\n",
       "      <td>2.660000</td>\n",
       "    </tr>\n",
       "    <tr>\n",
       "      <th>25%</th>\n",
       "      <td>1.000000</td>\n",
       "      <td>22.230750</td>\n",
       "      <td>22.847500</td>\n",
       "    </tr>\n",
       "    <tr>\n",
       "      <th>50%</th>\n",
       "      <td>2.000000</td>\n",
       "      <td>36.648350</td>\n",
       "      <td>40.000000</td>\n",
       "    </tr>\n",
       "    <tr>\n",
       "      <th>75%</th>\n",
       "      <td>4.000000</td>\n",
       "      <td>59.675694</td>\n",
       "      <td>57.450000</td>\n",
       "    </tr>\n",
       "    <tr>\n",
       "      <th>max</th>\n",
       "      <td>26.000000</td>\n",
       "      <td>143.562600</td>\n",
       "      <td>896.600000</td>\n",
       "    </tr>\n",
       "  </tbody>\n",
       "</table>\n",
       "</div>"
      ],
      "text/plain": [
       "        qtdInsumos    calculado      correto\n",
       "count  5040.000000  5040.000000  5040.000000\n",
       "mean      3.274405    45.288435    45.602711\n",
       "std       3.145020    30.249578    32.274965\n",
       "min       1.000000     2.994540     2.660000\n",
       "25%       1.000000    22.230750    22.847500\n",
       "50%       2.000000    36.648350    40.000000\n",
       "75%       4.000000    59.675694    57.450000\n",
       "max      26.000000   143.562600   896.600000"
      ]
     },
     "execution_count": 20,
     "metadata": {},
     "output_type": "execute_result"
    }
   ],
   "source": [
    "# Confirmando a mudança com o resumo estatístico\n",
    "df_teste.describe()"
   ]
  },
  {
   "cell_type": "code",
   "execution_count": 21,
   "id": "eg86CnSc38fI",
   "metadata": {
    "id": "eg86CnSc38fI"
   },
   "outputs": [
    {
     "data": {
      "text/plain": [
       "5040"
      ]
     },
     "execution_count": 21,
     "metadata": {},
     "output_type": "execute_result"
    }
   ],
   "source": [
    "# Achando a quantidade de linha após a retirada de Outliers\n",
    "len(df_teste)"
   ]
  },
  {
   "cell_type": "code",
   "execution_count": 22,
   "id": "fbo28gFU3rQ2",
   "metadata": {
    "id": "fbo28gFU3rQ2"
   },
   "outputs": [],
   "source": [
    "# Atribuindo para modificar o X e o Y\n",
    "x = df_teste['calculado'].values\n",
    "y = df_teste['correto'].values"
   ]
  },
  {
   "cell_type": "markdown",
   "id": "2ca85442",
   "metadata": {},
   "source": [
    "## Visualização Gráfica do Pré-Processamento"
   ]
  },
  {
   "cell_type": "code",
   "execution_count": 23,
   "id": "66d2d129",
   "metadata": {
    "id": "66d2d129"
   },
   "outputs": [
    {
     "data": {
      "image/png": "[encoded data removed]",
      "text/plain": [
       "<Figure size 432x288 with 1 Axes>"
      ]
     },
     "metadata": {
      "needs_background": "light"
     },
     "output_type": "display_data"
    }
   ],
   "source": [
    "# gráfico de dispersão do novo x e novo y (com o corte de linhas)\n",
    "plt.scatter(x, y)\n",
    "plt.show()"
   ]
  },
  {
   "cell_type": "code",
   "execution_count": 24,
   "id": "db47144c",
   "metadata": {
    "id": "db47144c"
   },
   "outputs": [
    {
     "data": {
      "image/png": "[encoded data removed]",
      "text/plain": [
       "<Figure size 432x288 with 1 Axes>"
      ]
     },
     "metadata": {
      "needs_background": "light"
     },
     "output_type": "display_data"
    }
   ],
   "source": [
    "# gráfico Boxplot do \"calculado\" mostrando os outliers\n",
    "plt.boxplot(x, vert=False, showfliers=True, notch=False, patch_artist=True)\n",
    "plt.title(\"Gráfico de Boxplot\")\n",
    "plt.xlabel(\"calculado\")\n",
    "plt.show()"
   ]
  },
  {
   "cell_type": "code",
   "execution_count": 25,
   "id": "2f5d7044",
   "metadata": {
    "id": "2f5d7044"
   },
   "outputs": [
    {
     "data": {
      "image/png": "[encoded data removed]",
      "text/plain": [
       "<Figure size 432x288 with 1 Axes>"
      ]
     },
     "metadata": {
      "needs_background": "light"
     },
     "output_type": "display_data"
    }
   ],
   "source": [
    "# gráfico Boxplot do \"correto\" mostrando os outliers\n",
    "plt.boxplot(y, vert=False, showfliers=True, notch=False, patch_artist=True)\n",
    "plt.title(\"Gráfico de Boxplot\")\n",
    "plt.xlabel(\"correto\")\n",
    "plt.show()"
   ]
  },
  {
   "cell_type": "code",
   "execution_count": 26,
   "id": "a67796cc",
   "metadata": {
    "id": "a67796cc"
   },
   "outputs": [
    {
     "data": {
      "image/png": "[encoded data removed]",
      "text/plain": [
       "<Figure size 432x288 with 1 Axes>"
      ]
     },
     "metadata": {
      "needs_background": "light"
     },
     "output_type": "display_data"
    }
   ],
   "source": [
    "# gráfico Boxplot do \"calculado\" sem mostrar os outliers\n",
    "plt.boxplot(x, vert=False, showfliers=False, notch=False, patch_artist=True)\n",
    "plt.title(\"Gráfico de Boxplot\")\n",
    "plt.xlabel(\"calculado\")\n",
    "plt.show()"
   ]
  },
  {
   "cell_type": "code",
   "execution_count": 27,
   "id": "93bd7d1a",
   "metadata": {
    "id": "93bd7d1a"
   },
   "outputs": [
    {
     "data": {
      "image/png": "[encoded data removed]",
      "text/plain": [
       "<Figure size 432x288 with 1 Axes>"
      ]
     },
     "metadata": {
      "needs_background": "light"
     },
     "output_type": "display_data"
    }
   ],
   "source": [
    "# gráfico Boxplot do \"correto\" mostrando os outliers\n",
    "plt.boxplot(y, vert=False, showfliers=False, notch=False, patch_artist=True)\n",
    "plt.title(\"Gráfico de Boxplot\")\n",
    "plt.xlabel(\"correto\")\n",
    "plt.show()"
   ]
  },
  {
   "cell_type": "code",
   "execution_count": 28,
   "id": "f45f3ac7",
   "metadata": {
    "id": "f45f3ac7"
   },
   "outputs": [
    {
     "data": {
      "image/png": "[encoded data removed]",
      "text/plain": [
       "<Figure size 432x288 with 4 Axes>"
      ]
     },
     "metadata": {
      "needs_background": "light"
     },
     "output_type": "display_data"
    }
   ],
   "source": [
    "# plotar os 4 gráficos numa mesma região para uma comparação visual\n",
    "plt.figure(1)\n",
    "plt.subplot(2,2,1)\n",
    "plt.boxplot(x, vert=False, showfliers=True, notch=False, patch_artist=True)\n",
    "plt.subplot(2,2,2)\n",
    "plt.boxplot(y, vert = False, showfliers = True, notch = False, patch_artist = True)\n",
    "plt.subplot(2,2,3)\n",
    "plt.boxplot(x, vert = False, showfliers = False, notch = False, patch_artist = True)\n",
    "plt.subplot(2,2,4)\n",
    "plt.boxplot(y, vert = False, showfliers = False, notch = False, patch_artist = True)\n",
    "plt.show()"
   ]
  },
  {
   "cell_type": "markdown",
   "id": "f177e1da",
   "metadata": {},
   "source": [
    "## Processamento"
   ]
  },
  {
   "cell_type": "code",
   "execution_count": 29,
   "id": "0b7b4e3c",
   "metadata": {
    "id": "0b7b4e3c"
   },
   "outputs": [],
   "source": [
    "# redimensionar \n",
    "x = x.reshape(-1,1)"
   ]
  },
  {
   "cell_type": "code",
   "execution_count": 30,
   "id": "57fa2a4e",
   "metadata": {
    "id": "57fa2a4e"
   },
   "outputs": [
    {
     "data": {
      "text/plain": [
       "LinearRegression()"
      ]
     },
     "execution_count": 30,
     "metadata": {},
     "output_type": "execute_result"
    }
   ],
   "source": [
    "# atribui uma regressão linear e treinar esse modelo\n",
    "modelo = LinearRegression()\n",
    "modelo.fit(x, y)"
   ]
  },
  {
   "cell_type": "code",
   "execution_count": 31,
   "id": "7de48f41",
   "metadata": {
    "id": "7de48f41"
   },
   "outputs": [
    {
     "data": {
      "text/plain": [
       "3.960176387023367"
      ]
     },
     "execution_count": 31,
     "metadata": {},
     "output_type": "execute_result"
    }
   ],
   "source": [
    "# valor do intercepto\n",
    "modelo.intercept_"
   ]
  },
  {
   "cell_type": "code",
   "execution_count": 32,
   "id": "7bded34b",
   "metadata": {
    "id": "7bded34b"
   },
   "outputs": [
    {
     "data": {
      "text/plain": [
       "array([0.919496])"
      ]
     },
     "execution_count": 32,
     "metadata": {},
     "output_type": "execute_result"
    }
   ],
   "source": [
    "# coeficiente\n",
    "modelo.coef_"
   ]
  },
  {
   "cell_type": "code",
   "execution_count": 33,
   "id": "c6302be8",
   "metadata": {
    "id": "c6302be8"
   },
   "outputs": [
    {
     "data": {
      "text/plain": [
       "0.7426886149940379"
      ]
     },
     "execution_count": 33,
     "metadata": {},
     "output_type": "execute_result"
    }
   ],
   "source": [
    "# calcula o score do modelo para sabermos o quão eficiente ele é\n",
    "modelo.score(x, y)"
   ]
  },
  {
   "cell_type": "code",
   "execution_count": 34,
   "id": "61c96b3d",
   "metadata": {
    "id": "61c96b3d"
   },
   "outputs": [],
   "source": [
    "# faz as previsões baseada na regressão linear\n",
    "previsoes = modelo.predict(x)"
   ]
  },
  {
   "cell_type": "code",
   "execution_count": 47,
   "id": "a6a5c237",
   "metadata": {
    "id": "a6a5c237"
   },
   "outputs": [
    {
     "data": {
      "text/html": [
       "<div>\n",
       "<style scoped>\n",
       "    .dataframe tbody tr th:only-of-type {\n",
       "        vertical-align: middle;\n",
       "    }\n",
       "\n",
       "    .dataframe tbody tr th {\n",
       "        vertical-align: top;\n",
       "    }\n",
       "\n",
       "    .dataframe thead th {\n",
       "        text-align: right;\n",
       "    }\n",
       "</style>\n",
       "<table border=\"1\" class=\"dataframe\">\n",
       "  <thead>\n",
       "    <tr style=\"text-align: right;\">\n",
       "      <th></th>\n",
       "      <th>descricao</th>\n",
       "      <th>criado</th>\n",
       "      <th>qtdInsumos</th>\n",
       "      <th>calculado</th>\n",
       "      <th>correto</th>\n",
       "    </tr>\n",
       "  </thead>\n",
       "  <tbody>\n",
       "    <tr>\n",
       "      <th>7085</th>\n",
       "      <td>30 CAP | VITAMINA D3 1:100  60000UI</td>\n",
       "      <td>2020-07-09 18:41:10</td>\n",
       "      <td>1</td>\n",
       "      <td>56.640000</td>\n",
       "      <td>48.4</td>\n",
       "    </tr>\n",
       "    <tr>\n",
       "      <th>7091</th>\n",
       "      <td>60 CAP | DOXEPINA CLORIDRATO  3MG</td>\n",
       "      <td>2020-07-09 18:27:09</td>\n",
       "      <td>1</td>\n",
       "      <td>40.234500</td>\n",
       "      <td>43.6</td>\n",
       "    </tr>\n",
       "    <tr>\n",
       "      <th>7097</th>\n",
       "      <td>60 CAP | SIBUTRAMINA CLORIDRATO  5MG</td>\n",
       "      <td>2020-07-09 18:08:10</td>\n",
       "      <td>1</td>\n",
       "      <td>49.247500</td>\n",
       "      <td>43.6</td>\n",
       "    </tr>\n",
       "    <tr>\n",
       "      <th>7110</th>\n",
       "      <td>30 CAP | VITAMINA D3 1:100  14000UI</td>\n",
       "      <td>2020-07-09 17:39:10</td>\n",
       "      <td>1</td>\n",
       "      <td>36.216000</td>\n",
       "      <td>39.9</td>\n",
       "    </tr>\n",
       "    <tr>\n",
       "      <th>7111</th>\n",
       "      <td>90 CAP | ACIDOPHILUS LACTOBACILLUS  100MG; BIF...</td>\n",
       "      <td>2020-07-09 17:39:10</td>\n",
       "      <td>6</td>\n",
       "      <td>20.443733</td>\n",
       "      <td>18.5</td>\n",
       "    </tr>\n",
       "    <tr>\n",
       "      <th>7112</th>\n",
       "      <td>36 CAP | VITAMINA D  7000UI</td>\n",
       "      <td>2020-07-09 17:39:10</td>\n",
       "      <td>1</td>\n",
       "      <td>33.729600</td>\n",
       "      <td>44.0</td>\n",
       "    </tr>\n",
       "  </tbody>\n",
       "</table>\n",
       "</div>"
      ],
      "text/plain": [
       "                                              descricao               criado  \\\n",
       "7085                30 CAP | VITAMINA D3 1:100  60000UI  2020-07-09 18:41:10   \n",
       "7091                  60 CAP | DOXEPINA CLORIDRATO  3MG  2020-07-09 18:27:09   \n",
       "7097               60 CAP | SIBUTRAMINA CLORIDRATO  5MG  2020-07-09 18:08:10   \n",
       "7110                30 CAP | VITAMINA D3 1:100  14000UI  2020-07-09 17:39:10   \n",
       "7111  90 CAP | ACIDOPHILUS LACTOBACILLUS  100MG; BIF...  2020-07-09 17:39:10   \n",
       "7112                        36 CAP | VITAMINA D  7000UI  2020-07-09 17:39:10   \n",
       "\n",
       "      qtdInsumos  calculado  correto  \n",
       "7085           1  56.640000     48.4  \n",
       "7091           1  40.234500     43.6  \n",
       "7097           1  49.247500     43.6  \n",
       "7110           1  36.216000     39.9  \n",
       "7111           6  20.443733     18.5  \n",
       "7112           1  33.729600     44.0  "
      ]
     },
     "execution_count": 47,
     "metadata": {},
     "output_type": "execute_result"
    }
   ],
   "source": [
    "df_teste.tail(6)"
   ]
  },
  {
   "cell_type": "code",
   "execution_count": 53,
   "id": "SXHoNmUYuT6S",
   "metadata": {
    "id": "SXHoNmUYuT6S"
   },
   "outputs": [
    {
     "data": {
      "text/plain": [
       "56.541460396825386"
      ]
     },
     "execution_count": 53,
     "metadata": {},
     "output_type": "execute_result"
    }
   ],
   "source": [
    "# calcunado a média naquele intervalo para sabermos se o valor achado se aproxima da média\n",
    "df_teste.query('calculado > 56 & calculado < 57')['calculado'].mean()"
   ]
  },
  {
   "cell_type": "code",
   "execution_count": 50,
   "id": "afb4aa8f",
   "metadata": {
    "id": "afb4aa8f"
   },
   "outputs": [
    {
     "data": {
      "text/plain": [
       "array([56.04042975])"
      ]
     },
     "execution_count": 50,
     "metadata": {},
     "output_type": "execute_result"
    }
   ],
   "source": [
    "# 1º exemplo de previsão\n",
    "# 7085 30 CAP | VITAMINA D3 1:100 60000UI 2020-07-09 18:41:10 1 (56.640000 48.4)\n",
    "previsoes = modelo.predict([[56.640000]])\n",
    "previsoes"
   ]
  },
  {
   "cell_type": "code",
   "execution_count": 55,
   "id": "VGlaPWaavwM7",
   "metadata": {
    "id": "VGlaPWaavwM7"
   },
   "outputs": [
    {
     "data": {
      "text/plain": [
       "40.48543349023198"
      ]
     },
     "execution_count": 55,
     "metadata": {},
     "output_type": "execute_result"
    }
   ],
   "source": [
    "# calcunado a média naquele intervalo para sabermos se o valor achado se aproxima da média\n",
    "df_teste.query('calculado > 40 & calculado < 41')['calculado'].mean()"
   ]
  },
  {
   "cell_type": "code",
   "execution_count": 54,
   "id": "8f712c51",
   "metadata": {
    "id": "8f712c51"
   },
   "outputs": [
    {
     "data": {
      "text/plain": [
       "array([40.95563814])"
      ]
     },
     "execution_count": 54,
     "metadata": {},
     "output_type": "execute_result"
    }
   ],
   "source": [
    "# 2º exemplo de previsão\n",
    "# 7091 60 CAP | DOXEPINA CLORIDRATO 3MG 2020-07-09 18:27:09 1 (40.234500 43.6)\n",
    "previsoes = modelo.predict([[40.234500]])\n",
    "previsoes"
   ]
  },
  {
   "cell_type": "code",
   "execution_count": 57,
   "id": "xAiJLKHzv_GZ",
   "metadata": {
    "id": "xAiJLKHzv_GZ"
   },
   "outputs": [
    {
     "data": {
      "text/plain": [
       "36.47792336774647"
      ]
     },
     "execution_count": 57,
     "metadata": {},
     "output_type": "execute_result"
    }
   ],
   "source": [
    "# calcunado a média naquele intervalo para sabermos se o valor achado se aproxima da média\n",
    "df_teste.query('calculado > 36 & calculado < 37')['calculado'].mean()"
   ]
  },
  {
   "cell_type": "code",
   "execution_count": 56,
   "id": "0bfaa9d1",
   "metadata": {
    "id": "0bfaa9d1"
   },
   "outputs": [
    {
     "data": {
      "text/plain": [
       "array([37.26064347])"
      ]
     },
     "execution_count": 56,
     "metadata": {},
     "output_type": "execute_result"
    }
   ],
   "source": [
    "# 3º exemplo de previsão\n",
    "# 7110 30 CAP | VITAMINA D3 1:100 14000UI 2020-07-09 17:39:10 1 (36.216000 39.9)\n",
    "previsoes = modelo.predict([[36.216000]])\n",
    "previsoes"
   ]
  },
  {
   "cell_type": "code",
   "execution_count": 43,
   "id": "a67bc3a7",
   "metadata": {
    "id": "a67bc3a7"
   },
   "outputs": [
    {
     "data": {
      "text/plain": [
       "Text(0, 0.5, 'Valores Corretos')"
      ]
     },
     "execution_count": 43,
     "metadata": {},
     "output_type": "execute_result"
    },
    {
     "data": {
      "image/png": "[encoded data removed]",
      "text/plain": [
       "<Figure size 432x288 with 1 Axes>"
      ]
     },
     "metadata": {
      "needs_background": "light"
     },
     "output_type": "display_data"
    }
   ],
   "source": [
    "# Gráfico de dispersão com uma reta representando a Regressão Linear\n",
    "plt.scatter(x,y)\n",
    "plt.plot(x,modelo.predict(x), color = 'red')\n",
    "plt.title(\"Regressão Linear\")\n",
    "plt.xlabel(\"Valores Calculados\")\n",
    "plt.ylabel(\"Valores Corretos\")"
   ]
  },
  {
   "cell_type": "code",
   "execution_count": null,
   "id": "efabdc31",
   "metadata": {},
   "outputs": [],
   "source": []
  }
 ],
 "metadata": {
  "colab": {
   "collapsed_sections": [],
   "name": "desafio_manipulae_final.ipynb",
   "provenance": []
  },
  "kernelspec": {
   "display_name": "Python 3",
   "language": "python",
   "name": "python3"
  },
  "language_info": {
   "codemirror_mode": {
    "name": "ipython",
    "version": 3
   },
   "file_extension": ".py",
   "mimetype": "text/x-python",
   "name": "python",
   "nbconvert_exporter": "python",
   "pygments_lexer": "ipython3",
   "version": "3.8.8"
  }
 },
 "nbformat": 4,
 "nbformat_minor": 5
}
